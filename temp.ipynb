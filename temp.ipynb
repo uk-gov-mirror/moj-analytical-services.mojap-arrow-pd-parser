{
 "cells": [
  {
   "source": [
    "import pyarrow as pa\n",
    "import arrow_pd_parser.export as export\n",
    "import arrow_pd_parser.parse as parse"
   ],
   "cell_type": "code",
   "metadata": {},
   "execution_count": 1,
   "outputs": []
  },
  {
   "cell_type": "code",
   "execution_count": 4,
   "metadata": {},
   "outputs": [],
   "source": [
    "# in types: \n",
    "# dates: date32, date64\n",
    "# datetimes: timestamp(\"s\"), plus ms, us and ns\n",
    "# int: int8, int16, int32, int64, uint8, uint16, uint32, uint64\n",
    "# bools and string can be done in one  \n",
    "schema1 = pa.schema(\n",
    "        [\n",
    "            (\"i\", pa.int64()),\n",
    "            (\"my_bool\", pa.bool_()),\n",
    "            (\"my_nullable_bool\", pa.bool_()),\n",
    "            (\"my_date\", pa.date32()),\n",
    "            (\"my_datetime\", pa.timestamp(\"s\")),\n",
    "            (\"my_int\", pa.int64()),\n",
    "            (\"my_string\", pa.string()),\n",
    "        ]\n",
    "    )\n",
    "\n",
    "schema2 = pa.schema(\n",
    "        [\n",
    "            (\"i\", pa.int64()),\n",
    "            (\"my_bool\", pa.bool_()),\n",
    "            (\"my_nullable_bool\", pa.bool_()),\n",
    "            (\"my_date\", pa.date64()),\n",
    "            (\"my_datetime\", pa.timestamp(\"us\")),\n",
    "            (\"my_int\", pa.int64()),\n",
    "            (\"my_string\", pa.string()),\n",
    "        ]\n",
    "    )\n",
    "\n",
    "data = parse.pa_read_csv_to_pandas(\"tests/data/all_types.csv\", schema2, pd_date_type=\"pd_period\")\n",
    "#pd_boolean=False\n",
    "#pd_integer=False\n",
    "#pd_string=False\n",
    "#pd_date_type and pd_timestamp_type: \"datetime_object\", \"pd_timestamp\" or \"pd_period\".\n",
    "# all fine EXCEPT pd_period, which I don't understand yet"
   ]
  },
  {
   "cell_type": "code",
   "execution_count": 5,
   "metadata": {},
   "outputs": [],
   "source": [
    "export.pd_to_csv(data, \"export_test.csv\", schema2)\n",
    "#export.pd_to_json(data, \"export_test.jsonl\", schema2)"
   ]
  },
  {
   "cell_type": "code",
   "execution_count": 9,
   "metadata": {},
   "outputs": [],
   "source": [
    "reloaded = parse.pa_read_csv_to_pandas(\"export_test.csv\", schema2)\n",
    "#reloaded = parse.pa_read_json_to_pandas(\"export_test.jsonl\", test)"
   ]
  },
  {
   "cell_type": "code",
   "execution_count": 10,
   "metadata": {},
   "outputs": [
    {
     "output_type": "execute_result",
     "data": {
      "text/plain": [
       "True"
      ]
     },
     "metadata": {},
     "execution_count": 10
    }
   ],
   "source": [
    "data.equals(reloaded)"
   ]
  },
  {
   "cell_type": "code",
   "execution_count": 37,
   "metadata": {},
   "outputs": [
    {
     "output_type": "execute_result",
     "data": {
      "text/plain": [
       "i                    Int64\n",
       "my_bool               bool\n",
       "my_nullable_bool    object\n",
       "my_date             object\n",
       "my_datetime         object\n",
       "my_int               Int64\n",
       "my_string           string\n",
       "dtype: object"
      ]
     },
     "metadata": {},
     "execution_count": 37
    }
   ],
   "source": [
    "reloaded.dtypes"
   ]
  },
  {
   "cell_type": "code",
   "execution_count": 6,
   "metadata": {},
   "outputs": [
    {
     "output_type": "execute_result",
     "data": {
      "text/plain": [
       "i                       Int64\n",
       "my_bool               boolean\n",
       "my_nullable_bool      boolean\n",
       "my_date             period[L]\n",
       "my_datetime            object\n",
       "my_int                  Int64\n",
       "my_string              string\n",
       "dtype: object"
      ]
     },
     "metadata": {},
     "execution_count": 6
    }
   ],
   "source": [
    "data.dtypes"
   ]
  },
  {
   "cell_type": "code",
   "execution_count": 12,
   "metadata": {},
   "outputs": [],
   "source": [
    "import pandas as pd\n",
    "import pyarrow as pa\n",
    "\n",
    "#export.pd_to_json(data, \"export_test.jsonl\", schema2)pa.Schema.from_pandas(data)"
   ]
  },
  {
   "cell_type": "code",
   "execution_count": 21,
   "metadata": {},
   "outputs": [
    {
     "output_type": "execute_result",
     "data": {
      "text/plain": [
       "False"
      ]
     },
     "metadata": {},
     "execution_count": 21
    }
   ],
   "source": [
    "data[\"my_date\"].dtype == pd.PeriodDtype()"
   ]
  },
  {
   "cell_type": "code",
   "execution_count": null,
   "metadata": {},
   "outputs": [],
   "source": []
  }
 ],
 "metadata": {
  "kernelspec": {
   "display_name": "scrapbook",
   "language": "python",
   "name": "scrapbook"
  },
  "language_info": {
   "codemirror_mode": {
    "name": "ipython",
    "version": 3
   },
   "file_extension": ".py",
   "mimetype": "text/x-python",
   "name": "python",
   "nbconvert_exporter": "python",
   "pygments_lexer": "ipython3",
   "version": "3.8.5-final"
  }
 },
 "nbformat": 4,
 "nbformat_minor": 4
}